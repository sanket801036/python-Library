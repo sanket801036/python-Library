{
 "cells": [
  {
   "cell_type": "markdown",
   "id": "2f9e7667-d9b4-4081-9cb9-34aec3f739aa",
   "metadata": {},
   "source": [
    "#### Data visualization is a quick,easy way to conway concepts in universal manner"
   ]
  },
  {
   "cell_type": "markdown",
   "id": "c1da67e0-ce71-4668-9707-9da9c6164a4f",
   "metadata": {},
   "source": [
    "#### It is the graphical representation of information and data.\n",
    "#### visual elements like charts,graphs and maps,data visualization tools provide an accessible way to see and understand trends,outliers and patterns in data"
   ]
  },
  {
   "cell_type": "markdown",
   "id": "f5241ec8-2783-45ca-a462-01f5e62a1bbe",
   "metadata": {},
   "source": [
    "### Types of Data visualization in python\n",
    "### Plotting Libraries:-\n",
    "#### 1. Matplotlib:-low level,provides lots of freedom\n",
    "#### 2. Pandas Visualization:- easy to use interface,build on Matplotlib\n",
    "#### 3. Seaborn :- High-level interface,great default styles\n",
    "#### 4. ggplotL- based on R's ggplot2, uses Grammer of Graphics\n",
    "#### 5. Plotly:- can create interactive plots\n"
   ]
  },
  {
   "cell_type": "markdown",
   "id": "2442772e-08e9-43b7-af1d-5ef294823a5d",
   "metadata": {},
   "source": [
    "### What is Matplotlib?\n",
    "#### It is plotting library for python programming language and its numerical mathematics extension in Numpy.\n",
    "### Used for data visualization\n",
    "### It is 2D and 3D plotting library\n",
    "### It was introduced by john hunter in the year 2002."
   ]
  },
  {
   "cell_type": "markdown",
   "id": "67ac7ce3-91e2-470a-9c94-2275cd393084",
   "metadata": {},
   "source": [
    "### Matplotlib Graphs\n",
    "#### 1. Linear plot\n",
    "#### 2. Scatter plot\n",
    "#### 3. Bar plot\n",
    "#### 4. Stem plot\n",
    "#### 5. Step plot\n",
    "#### 6. Hist plot\n",
    "#### 7. Box plot\n",
    "#### 8. Pie plot\n",
    "#### 9. Fill_Between Plot"
   ]
  },
  {
   "cell_type": "code",
   "execution_count": null,
   "id": "87e9e0a7-9ca7-46e1-abfc-4d215e81a4dc",
   "metadata": {},
   "outputs": [],
   "source": []
  }
 ],
 "metadata": {
  "kernelspec": {
   "display_name": "Python 3 (ipykernel)",
   "language": "python",
   "name": "python3"
  },
  "language_info": {
   "codemirror_mode": {
    "name": "ipython",
    "version": 3
   },
   "file_extension": ".py",
   "mimetype": "text/x-python",
   "name": "python",
   "nbconvert_exporter": "python",
   "pygments_lexer": "ipython3",
   "version": "3.13.1"
  }
 },
 "nbformat": 4,
 "nbformat_minor": 5
}
