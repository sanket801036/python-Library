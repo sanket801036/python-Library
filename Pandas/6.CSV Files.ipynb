{
 "cells": [
  {
   "cell_type": "markdown",
   "id": "21b313ff-b1b2-4377-9c94-e6f38ccec4e4",
   "metadata": {},
   "source": [
    "### Difference between CSV and XLS(excl)file formats:\n",
    "#### CSV format is a plain text format in which values are separated by commas\n",
    "#### XLS file format is an Excel sheets binary file format which holds information about all the  worksheets in a file, including both content and formatting."
   ]
  },
  {
   "cell_type": "code",
   "execution_count": 2,
   "id": "f5eed94d-77d5-41f8-8f29-b86c89cf1122",
   "metadata": {},
   "outputs": [
    {
     "name": "stdout",
     "output_type": "stream",
     "text": [
      "   a  s  d\n",
      "0  1  1  1\n",
      "1  2  2  2\n",
      "2  3  3  3\n",
      "3  4  4  4\n",
      "4  5  5  5\n",
      "5  6  6  6\n"
     ]
    }
   ],
   "source": [
    "import pandas as pd\n",
    "dis={\"a\":[1,2,3,4,5,6],\"s\":[1,2,3,4,5,6],\"d\":[1,2,3,4,5,6]}\n",
    "d=pd.DataFrame(dis)\n",
    "print(d)\n",
    "d.to_csv(\"Test_new.csv\") # to create csv file\n",
    "d.to_csv(\"Test_new.csv\",index=False,header=[1,2,3]) "
   ]
  },
  {
   "cell_type": "markdown",
   "id": "f798460b-2525-4943-aa44-d5227ffcfdee",
   "metadata": {},
   "source": [
    "### CSV Files:\n",
    "#### A simple way to store big data sets is to use CSV files(comma separated files).\n",
    "#### CSV files contains plain text and is well known format that can be read by everyone including pandas."
   ]
  },
  {
   "cell_type": "code",
   "execution_count": null,
   "id": "bacd92e0-f8b7-4998-9eaa-52f9f0d39979",
   "metadata": {},
   "outputs": [],
   "source": []
  }
 ],
 "metadata": {
  "kernelspec": {
   "display_name": "Python 3 (ipykernel)",
   "language": "python",
   "name": "python3"
  },
  "language_info": {
   "codemirror_mode": {
    "name": "ipython",
    "version": 3
   },
   "file_extension": ".py",
   "mimetype": "text/x-python",
   "name": "python",
   "nbconvert_exporter": "python",
   "pygments_lexer": "ipython3",
   "version": "3.13.1"
  }
 },
 "nbformat": 4,
 "nbformat_minor": 5
}
