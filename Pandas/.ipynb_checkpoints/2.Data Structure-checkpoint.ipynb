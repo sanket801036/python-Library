{
 "cells": [
  {
   "cell_type": "markdown",
   "id": "eb7a11ba-3676-4b6e-b3e3-6bfd5b5dd057",
   "metadata": {},
   "source": [
    "#### Pandas provide two data structure for processing the data\n",
    "#### Series & DataFrame and Panel"
   ]
  },
  {
   "cell_type": "markdown",
   "id": "167f9301-b49b-4bca-8cef-53ed6a41a983",
   "metadata": {},
   "source": [
    "## Series"
   ]
  },
  {
   "cell_type": "markdown",
   "id": "d204cb62-3614-4ab1-baa9-32992b7832b7",
   "metadata": {},
   "source": [
    "#### Defination:-It is defined as a one dimensional array that is capable of storing various data types."
   ]
  },
  {
   "cell_type": "code",
   "execution_count": 8,
   "id": "8cfd2a9c-c848-4491-993f-73a2cc8d128d",
   "metadata": {},
   "outputs": [
    {
     "name": "stdout",
     "output_type": "stream",
     "text": [
      "a    3.0\n",
      "s    4.0\n",
      "d    5.0\n",
      "f    6.0\n",
      "Name: python, dtype: float64\n",
      "0    3\n",
      "1    4\n",
      "2    5\n",
      "3    6\n",
      "dtype: int64\n",
      "<class 'pandas.core.series.Series'>\n",
      "5\n"
     ]
    }
   ],
   "source": [
    "import pandas as pd\n",
    "x=[3,4,5,6]\n",
    "a=pd.Series(x)\n",
    "b=pd.Series(x,index=['a','s','d','f'],dtype=\"float\",name=\"python\")\n",
    "print(b)\n",
    "print(a)\n",
    "print(type(a))\n",
    "print(x[2])"
   ]
  },
  {
   "cell_type": "code",
   "execution_count": 9,
   "id": "faebf8b4-1d53-4f14-a68d-2e427af5e1c6",
   "metadata": {},
   "outputs": [
    {
     "name": "stdout",
     "output_type": "stream",
     "text": [
      "name    [python, c, c++, java]\n",
      "por           [12, 13, 14, 15]\n",
      "rank              [1, 4, 3, 2]\n",
      "dtype: object\n"
     ]
    }
   ],
   "source": [
    "d={\"name\":['python','c','c++','java'],\"por\":[12,13,14,15],\"rank\":[1,4,3,2]}\n",
    "x=pd.Series(d)\n",
    "print(x)"
   ]
  },
  {
   "cell_type": "code",
   "execution_count": 11,
   "id": "597c07f5-166a-4368-b5ec-0c0d11a6eaf5",
   "metadata": {},
   "outputs": [
    {
     "name": "stdout",
     "output_type": "stream",
     "text": [
      "1    12\n",
      "2    12\n",
      "3    12\n",
      "4    12\n",
      "5    12\n",
      "6    12\n",
      "dtype: int64\n",
      "<class 'pandas.core.series.Series'>\n"
     ]
    }
   ],
   "source": [
    "s=pd.Series(12,index=[1,2,3,4,5,6])\n",
    "print(s)\n",
    "print(type(s))"
   ]
  },
  {
   "cell_type": "code",
   "execution_count": 12,
   "id": "35d0a40e-020b-4dc3-92d6-0c5eb93718ed",
   "metadata": {},
   "outputs": [
    {
     "name": "stdout",
     "output_type": "stream",
     "text": [
      "1    24.0\n",
      "2    24.0\n",
      "3    24.0\n",
      "4     NaN\n",
      "5     NaN\n",
      "6    24.0\n",
      "dtype: float64\n"
     ]
    }
   ],
   "source": [
    "s=pd.Series(12,index=[1,2,3,4,5,6])\n",
    "s1=pd.Series(12,index=[1,2,3,6])\n",
    "print(s+s1) # you will get output here but in numpy you will get broadcast error it will work with missing data also\n"
   ]
  },
  {
   "cell_type": "code",
   "execution_count": null,
   "id": "a9fd64a4-28f4-4f9c-b0c5-15e2da3ead36",
   "metadata": {},
   "outputs": [],
   "source": []
  }
 ],
 "metadata": {
  "kernelspec": {
   "display_name": "Python 3 (ipykernel)",
   "language": "python",
   "name": "python3"
  },
  "language_info": {
   "codemirror_mode": {
    "name": "ipython",
    "version": 3
   },
   "file_extension": ".py",
   "mimetype": "text/x-python",
   "name": "python",
   "nbconvert_exporter": "python",
   "pygments_lexer": "ipython3",
   "version": "3.13.1"
  }
 },
 "nbformat": 4,
 "nbformat_minor": 5
}
