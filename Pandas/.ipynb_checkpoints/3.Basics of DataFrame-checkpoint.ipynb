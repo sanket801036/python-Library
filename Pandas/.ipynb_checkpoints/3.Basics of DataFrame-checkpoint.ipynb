{
 "cells": [
  {
   "cell_type": "code",
   "execution_count": 20,
   "id": "610b13f1-dbed-4893-ac44-d4f7686ac0c7",
   "metadata": {},
   "outputs": [
    {
     "name": "stdout",
     "output_type": "stream",
     "text": [
      "<class 'pandas.core.frame.DataFrame'>\n",
      "<class 'pandas.core.frame.DataFrame'>\n",
      "   a  1\n",
      "a  1  1\n",
      "b  2  2\n",
      "c  3  3\n",
      "d  4  4\n",
      "e  5  5\n",
      "3\n"
     ]
    }
   ],
   "source": [
    "import pandas as pd\n",
    "\n",
    "l=[1,2,3,4,5,6]\n",
    "\n",
    "var=pd.DataFrame(l)\n",
    "\n",
    "print(type(var))\n",
    "\n",
    "\n",
    "\n",
    "d = {\"a\": [1,2,3,4,5], \"s\": [1,2,3,4,5],1:[1,2,3,4,5]}\n",
    "v=pd.DataFrame(d)\n",
    "var1=pd.DataFrame(d,columns=[\"a\",1],index=[\"a\",\"b\",\"c\",\"d\",\"e\"])\n",
    "\n",
    "print(type(var))\n",
    "print(var1)\n",
    "print(v[\"a\"][2])\n",
    "\n",
    "\n"
   ]
  },
  {
   "cell_type": "code",
   "execution_count": 17,
   "id": "982ae9c0-e47d-417b-bc1b-d3832d12e004",
   "metadata": {},
   "outputs": [
    {
     "name": "stdout",
     "output_type": "stream",
     "text": [
      "<class 'pandas.core.frame.DataFrame'>\n",
      "    0   1   2   3    4\n",
      "0   1   2   3   4  5.0\n",
      "1  11  12  13  14  NaN\n"
     ]
    }
   ],
   "source": [
    "l1=[[1,2,3,4,5],[11,12,13,14]]\n",
    "v=pd.DataFrame(l1)\n",
    "print(type(v))\n",
    "print(v)"
   ]
  },
  {
   "cell_type": "code",
   "execution_count": 22,
   "id": "db1a6893-f6e4-4bdc-9ec5-efefda3743fa",
   "metadata": {},
   "outputs": [
    {
     "name": "stdout",
     "output_type": "stream",
     "text": [
      "<class 'pandas.core.frame.DataFrame'>\n",
      "   s  r\n",
      "0  1  1\n",
      "1  2  2\n",
      "2  3  3\n",
      "3  4  4\n"
     ]
    }
   ],
   "source": [
    "import pandas as pd\n",
    "\n",
    "# Create a DataFrame and a Series\n",
    "sr = {\n",
    "    \"s\": pd.Series([1, 2, 3, 4]),  # Use Series for 's'\n",
    "    \"r\": pd.Series([1, 2, 3, 4])   # Use Series for 'r'\n",
    "}\n",
    "\n",
    "# Create a DataFrame from the dictionary\n",
    "var4 = pd.DataFrame(sr)\n",
    "\n",
    "# Print the type and the DataFrame\n",
    "print(type(var4))\n",
    "print(var4)"
   ]
  },
  {
   "cell_type": "code",
   "execution_count": null,
   "id": "cbdf4f18-004e-4135-b0fe-30328cd22e99",
   "metadata": {},
   "outputs": [],
   "source": []
  },
  {
   "cell_type": "code",
   "execution_count": null,
   "id": "45ee90a6-a1a5-42d9-bab7-87f6d663bb00",
   "metadata": {},
   "outputs": [],
   "source": []
  }
 ],
 "metadata": {
  "kernelspec": {
   "display_name": "Python 3 (ipykernel)",
   "language": "python",
   "name": "python3"
  },
  "language_info": {
   "codemirror_mode": {
    "name": "ipython",
    "version": 3
   },
   "file_extension": ".py",
   "mimetype": "text/x-python",
   "name": "python",
   "nbconvert_exporter": "python",
   "pygments_lexer": "ipython3",
   "version": "3.13.1"
  }
 },
 "nbformat": 4,
 "nbformat_minor": 5
}
