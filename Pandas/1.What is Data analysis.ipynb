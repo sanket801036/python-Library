{
 "cells": [
  {
   "cell_type": "markdown",
   "id": "205409fa-83c9-4ccd-8fb9-6338c17b86d8",
   "metadata": {},
   "source": [
    "# Data Analysis "
   ]
  },
  {
   "cell_type": "markdown",
   "id": "ae85663d-d66d-4abd-8ac1-9fe6fd89213b",
   "metadata": {},
   "source": [
    "## Defination:-It is the process of inspecting,cleansing,transforming and modeling data with the role of discovering useful information,informing conclusion and suporting decision-making"
   ]
  },
  {
   "cell_type": "markdown",
   "id": "edb90a22-9964-49e2-b17e-12f706e28f34",
   "metadata": {},
   "source": [
    "## 1)What is pandas"
   ]
  },
  {
   "cell_type": "markdown",
   "id": "58c4fcef-783b-4b92-a244-56c587ebdc32",
   "metadata": {},
   "source": [
    "#### The name \"pandas\" has a reference to both \"panel data\", and \"python data analysis\" and was created by wes mckinney in 2008."
   ]
  },
  {
   "cell_type": "markdown",
   "id": "42b15438-c032-4f53-866a-348953de18aa",
   "metadata": {},
   "source": [
    "#### Pandas is python library used for working with data sets.\n",
    "#### It has functions for analyzing,cleaning,exploring, and manipulating data\n",
    "#### Read and write data structure and different formats:csc,XML,JSON,ZIP etc."
   ]
  },
  {
   "cell_type": "markdown",
   "id": "56c96a4a-33ab-4c4e-a83a-bc4fc0341104",
   "metadata": {},
   "source": [
    "## 2) Pandas Data Structures\n",
    "#### 1) Series:- One-Dimensional labeled arrays pd.Series(data)\n",
    "#### 2) DataFrames:- Two-Dimensional data structure with columns,much like a table.\n",
    "#### 3) Panel :- A panel is a 3D container of data"
   ]
  },
  {
   "cell_type": "markdown",
   "id": "91e727ec-a2e0-40a2-895b-8154a1ac0afa",
   "metadata": {},
   "source": [
    "## 3) Importance of pandas\n",
    "#### Pandas allows us to analyze big data and make conclusion based on statistical theories.\n",
    "#### Pandas can clean messy data sets and make readable and relevent.\n",
    "#### Easy handling of missing data (represented as NaN) in floating points as well as non-floating point data.\n",
    "#### Size Mutability:-columns can be inserted and deleted from data frame and higher dimensional object.\n",
    "#### Data set merging and joining.Flexible reshaping and pivoting of data"
   ]
  },
  {
   "cell_type": "code",
   "execution_count": null,
   "id": "11e8c0d8-9004-492b-a23a-f4e261f2ea83",
   "metadata": {},
   "outputs": [],
   "source": []
  }
 ],
 "metadata": {
  "kernelspec": {
   "display_name": "Python 3 (ipykernel)",
   "language": "python",
   "name": "python3"
  },
  "language_info": {
   "codemirror_mode": {
    "name": "ipython",
    "version": 3
   },
   "file_extension": ".py",
   "mimetype": "text/x-python",
   "name": "python",
   "nbconvert_exporter": "python",
   "pygments_lexer": "ipython3",
   "version": "3.13.1"
  }
 },
 "nbformat": 4,
 "nbformat_minor": 5
}
