{
 "cells": [
  {
   "cell_type": "markdown",
   "id": "80e39859-5897-4b29-ba18-b30208e80c6b",
   "metadata": {},
   "source": [
    "# Shape"
   ]
  },
  {
   "cell_type": "code",
   "execution_count": 1,
   "id": "08523846-2a37-4997-b3a4-c89d70758dc8",
   "metadata": {},
   "outputs": [
    {
     "name": "stdout",
     "output_type": "stream",
     "text": [
      "[[1 2 3 4]\n",
      " [1 2 3 4]]\n",
      "\n",
      "(2, 4)\n"
     ]
    }
   ],
   "source": [
    "import numpy as np\n",
    "var=np.array([[1,2,3,4],[1,2,3,4]])\n",
    "print(var)\n",
    "print()\n",
    "print(var.shape)"
   ]
  },
  {
   "cell_type": "code",
   "execution_count": 5,
   "id": "78b10962-e7a5-4979-89fb-434a63731ba1",
   "metadata": {},
   "outputs": [
    {
     "name": "stdout",
     "output_type": "stream",
     "text": [
      "[[[[1 2 3 4]]]]\n",
      "4\n",
      "\n",
      "(1, 1, 1, 4)\n"
     ]
    }
   ],
   "source": [
    "var1=np.array([1,2,3,4],ndmin=4)\n",
    "\n",
    "print(var1)\n",
    "print(var1.ndim)\n",
    "print()\n",
    "print(var1.shape)"
   ]
  },
  {
   "cell_type": "markdown",
   "id": "8f6a0b65-0cd9-4957-9016-3e9bf7e8db24",
   "metadata": {},
   "source": [
    "# Reshape"
   ]
  },
  {
   "cell_type": "code",
   "execution_count": 8,
   "id": "693a2266-3841-4299-bc50-1633f20c4b75",
   "metadata": {},
   "outputs": [
    {
     "name": "stdout",
     "output_type": "stream",
     "text": [
      "[1 2 3 4 5 6]\n",
      "1\n",
      "\n",
      "[[1 2]\n",
      " [3 4]\n",
      " [5 6]]\n",
      "2\n"
     ]
    }
   ],
   "source": [
    "var2=np.array([1,2,3,4,5,6])\n",
    "print(var2)\n",
    "print(var2.ndim)\n",
    "print()\n",
    "x=var2.reshape(3,2)\n",
    "print(x)\n",
    "print(x.ndim)\n",
    "\n"
   ]
  },
  {
   "cell_type": "code",
   "execution_count": 10,
   "id": "4c21cb74-1c95-4f70-9dae-4c1168437973",
   "metadata": {},
   "outputs": [
    {
     "name": "stdout",
     "output_type": "stream",
     "text": [
      "[ 1  2  3  4  5  6  7  8  9 10 11 12]\n",
      "1\n",
      "\n",
      "[[[ 1  2]\n",
      "  [ 3  4]\n",
      "  [ 5  6]]\n",
      "\n",
      " [[ 7  8]\n",
      "  [ 9 10]\n",
      "  [11 12]]]\n",
      "3\n"
     ]
    }
   ],
   "source": [
    "var3=np.array([1,2,3,4,5,6,7,8,9,10,11,12])\n",
    "print(var3)\n",
    "print(var3.ndim)\n",
    "print()\n",
    "x1=var3.reshape(2,3,2)\n",
    "print(x1)\n",
    "print(x1.ndim)\n"
   ]
  },
  {
   "cell_type": "code",
   "execution_count": 11,
   "id": "63fe504a-e8e1-47a7-958e-94d8d7f4e151",
   "metadata": {},
   "outputs": [
    {
     "name": "stdout",
     "output_type": "stream",
     "text": [
      "[ 1  2  3  4  5  6  7  8  9 10 11 12]\n",
      "1\n",
      "\n",
      "[[[ 1  2]\n",
      "  [ 3  4]\n",
      "  [ 5  6]]\n",
      "\n",
      " [[ 7  8]\n",
      "  [ 9 10]\n",
      "  [11 12]]]\n",
      "3\n",
      "\n",
      "[ 1  2  3  4  5  6  7  8  9 10 11 12]\n",
      "1\n"
     ]
    }
   ],
   "source": [
    "#3d->1d\n",
    "var3=np.array([1,2,3,4,5,6,7,8,9,10,11,12])\n",
    "print(var3)\n",
    "print(var3.ndim)\n",
    "print()\n",
    "x1=var3.reshape(2,3,2)\n",
    "print(x1)\n",
    "print(x1.ndim)\n",
    "print()\n",
    "one=x1.reshape(-1)\n",
    "print(one)\n",
    "print(one.ndim)"
   ]
  },
  {
   "cell_type": "code",
   "execution_count": null,
   "id": "18323dc9-4d32-48a9-9925-0467b6d99f7a",
   "metadata": {},
   "outputs": [],
   "source": []
  }
 ],
 "metadata": {
  "kernelspec": {
   "display_name": "Python 3 (ipykernel)",
   "language": "python",
   "name": "python3"
  },
  "language_info": {
   "codemirror_mode": {
    "name": "ipython",
    "version": 3
   },
   "file_extension": ".py",
   "mimetype": "text/x-python",
   "name": "python",
   "nbconvert_exporter": "python",
   "pygments_lexer": "ipython3",
   "version": "3.13.1"
  }
 },
 "nbformat": 4,
 "nbformat_minor": 5
}
