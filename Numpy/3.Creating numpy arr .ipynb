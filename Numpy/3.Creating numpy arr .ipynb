{
 "cells": [
  {
   "cell_type": "markdown",
   "id": "9087ed9f-a971-4678-8e9e-05a22af8848c",
   "metadata": {},
   "source": [
    "# Array"
   ]
  },
  {
   "cell_type": "code",
   "execution_count": 13,
   "id": "45e3680b-6692-4b9a-97b6-36d7bd2deaad",
   "metadata": {},
   "outputs": [
    {
     "name": "stdout",
     "output_type": "stream",
     "text": [
      "[1 2 3 4 5 6]\n",
      "<class 'numpy.ndarray'>\n",
      "1\n"
     ]
    },
    {
     "data": {
      "text/plain": [
       "array([1, 2, 3, 4, 5, 6])"
      ]
     },
     "execution_count": 13,
     "metadata": {},
     "output_type": "execute_result"
    }
   ],
   "source": [
    "import numpy as np\n",
    "x=[1,2,3,4,5,6]\n",
    "y=np.array(x)\n",
    "print(y)\n",
    "print(type(y))\n",
    "print(y.ndim) # 1 to determine the dimension of array\n",
    "y"
   ]
  },
  {
   "cell_type": "code",
   "execution_count": 10,
   "id": "3e4b0566-62ec-460e-94be-f8a235170e35",
   "metadata": {},
   "outputs": [
    {
     "name": "stdin",
     "output_type": "stream",
     "text": [
      "Enter : 4\n",
      "Enter : 5\n",
      "Enter : 6\n",
      "Enter : 7\n"
     ]
    },
    {
     "name": "stdout",
     "output_type": "stream",
     "text": [
      "[4 5 6 7]\n"
     ]
    }
   ],
   "source": [
    "l=[]\n",
    "for i in range(1,5):\n",
    "    x=int(eval(input('Enter :')))\n",
    "    l.append(x)\n",
    "print(np.array(l))\n",
    "          "
   ]
  },
  {
   "cell_type": "markdown",
   "id": "6318d534-cdca-4a9b-aa5a-d8941d46d7f2",
   "metadata": {},
   "source": [
    "# Dimensions in Arrays\n",
    "1-D,2-D,3-D and Higher dimension Arrays"
   ]
  },
  {
   "cell_type": "code",
   "execution_count": 15,
   "id": "322720d6-d6fd-414c-ba09-8a892044b02a",
   "metadata": {},
   "outputs": [
    {
     "name": "stdout",
     "output_type": "stream",
     "text": [
      "[[ 1  2  3  4  5]\n",
      " [ 6  7  8  9 10]]\n",
      "2\n"
     ]
    }
   ],
   "source": [
    "ar2=np.array([[1,2,3,4,5],[6,7,8,9,10]])\n",
    "print(ar2)\n",
    "print(ar2.ndim) # 2"
   ]
  },
  {
   "cell_type": "code",
   "execution_count": 16,
   "id": "5a0b715d-e138-4fa7-a9e8-4c15810eea0c",
   "metadata": {},
   "outputs": [
    {
     "name": "stdout",
     "output_type": "stream",
     "text": [
      "[[[[[[[[[[1 2 3 4]]]]]]]]]]\n",
      "10\n"
     ]
    }
   ],
   "source": [
    "arn=np.array([1,2,3,4],ndmin=10)\n",
    "print(arn)\n",
    "print(arn.ndim)"
   ]
  },
  {
   "cell_type": "code",
   "execution_count": null,
   "id": "4ad05bff-f8ae-4918-8f3d-5b12749ee453",
   "metadata": {},
   "outputs": [],
   "source": []
  }
 ],
 "metadata": {
  "kernelspec": {
   "display_name": "Python 3 (ipykernel)",
   "language": "python",
   "name": "python3"
  },
  "language_info": {
   "codemirror_mode": {
    "name": "ipython",
    "version": 3
   },
   "file_extension": ".py",
   "mimetype": "text/x-python",
   "name": "python",
   "nbconvert_exporter": "python",
   "pygments_lexer": "ipython3",
   "version": "3.13.1"
  }
 },
 "nbformat": 4,
 "nbformat_minor": 5
}
