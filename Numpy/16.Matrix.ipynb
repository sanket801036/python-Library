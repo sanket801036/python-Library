{
 "cells": [
  {
   "cell_type": "code",
   "execution_count": 4,
   "id": "18738be1-e4d5-4a33-a37e-4f90c980850b",
   "metadata": {},
   "outputs": [
    {
     "name": "stdout",
     "output_type": "stream",
     "text": [
      "[[1 2]\n",
      " [4 5]]\n",
      "<class 'numpy.matrix'>\n",
      "[[12 15]\n",
      " [33 42]]\n",
      "\n",
      "[[12 15]\n",
      " [33 42]]\n"
     ]
    }
   ],
   "source": [
    "import numpy as np\n",
    "var=np.matrix([[1,2],[4,5]])\n",
    "var2=np.matrix([[2,3],[5,6]])\n",
    "print(var)\n",
    "print(type(var))\n",
    "print(var*var2)\n",
    "print()\n",
    "print(var.dot(var2))"
   ]
  },
  {
   "cell_type": "code",
   "execution_count": 5,
   "id": "a0d2788e-6568-4dbe-8397-c84143c3c6f0",
   "metadata": {},
   "outputs": [
    {
     "name": "stdout",
     "output_type": "stream",
     "text": [
      "[[1 2 3]\n",
      " [4 5 6]]\n",
      "<class 'numpy.ndarray'>\n",
      "[[ 1  4  9]\n",
      " [16 25 36]]\n"
     ]
    }
   ],
   "source": [
    "var1=np.array([[1,2,3],[4,5,6]])\n",
    "var3=np.array([[1,2,3],[4,5,6]])\n",
    "print(var1)\n",
    "print(type(var1))\n",
    "print(var3*var1)"
   ]
  },
  {
   "cell_type": "markdown",
   "id": "01c231b3-7470-4a43-b26c-096c71ff1d84",
   "metadata": {},
   "source": [
    "# 1.Transpose"
   ]
  },
  {
   "cell_type": "code",
   "execution_count": 13,
   "id": "b780317d-3fb6-49cb-8fea-ed694b8e3cac",
   "metadata": {},
   "outputs": [
    {
     "name": "stdout",
     "output_type": "stream",
     "text": [
      "[[1 2 3]\n",
      " [4 5 6]]\n",
      "\n",
      "[[1 4]\n",
      " [2 5]\n",
      " [3 6]]\n",
      "Shortcut:-\n",
      "[[1 4]\n",
      " [2 5]\n",
      " [3 6]]\n",
      "\n",
      "[[1 4]\n",
      " [2 5]\n",
      " [3 6]]\n"
     ]
    }
   ],
   "source": [
    "var1=np.array([[1,2,3],[4,5,6]])\n",
    "print(var1)\n",
    "print()\n",
    "print(np.transpose(var1))\n",
    "print(\"Shortcut:-\")\n",
    "print(var1.T)\n",
    "print()\n",
    "print(np.swapaxes(var1,0,1))"
   ]
  },
  {
   "cell_type": "code",
   "execution_count": 15,
   "id": "6b2be54b-0587-4255-a719-393925dd03b3",
   "metadata": {},
   "outputs": [
    {
     "name": "stdout",
     "output_type": "stream",
     "text": [
      "[[1 2]\n",
      " [3 4]]\n",
      "\n",
      "[[1 3]\n",
      " [2 4]]\n"
     ]
    }
   ],
   "source": [
    "var3=np.array([[1,2],[3,4]])\n",
    "print(var3)\n",
    "print()\n",
    "print(np.swapaxes(var3,0,1))"
   ]
  },
  {
   "cell_type": "code",
   "execution_count": 16,
   "id": "83a54f23-dafe-4139-a75e-7147d698e8e4",
   "metadata": {},
   "outputs": [
    {
     "name": "stdout",
     "output_type": "stream",
     "text": [
      "[[1 2]\n",
      " [3 4]]\n",
      "\n",
      "[[-2.   1. ]\n",
      " [ 1.5 -0.5]]\n"
     ]
    }
   ],
   "source": [
    "var4=np.array([[1,2],[3,4]])\n",
    "print(var4)\n",
    "print()\n",
    "print(np.linalg.inv(var3))"
   ]
  },
  {
   "cell_type": "code",
   "execution_count": 17,
   "id": "5e3823ce-fcd7-43e0-b7cc-a4b217643443",
   "metadata": {},
   "outputs": [
    {
     "name": "stdout",
     "output_type": "stream",
     "text": [
      "[[1 2]\n",
      " [3 4]]\n",
      "\n",
      "[[ 7 10]\n",
      " [15 22]]\n",
      "\n",
      "[[1 0]\n",
      " [0 1]]\n",
      "\n",
      "[[ 5.5  -2.5 ]\n",
      " [-3.75  1.75]]\n",
      "\n"
     ]
    }
   ],
   "source": [
    "var5=np.matrix([[1,2],[3,4]])\n",
    "print(var5)\n",
    "print()\n",
    "print(np.linalg.matrix_power(var4,2))\n",
    "print()\n",
    "print(np.linalg.matrix_power(var4,0))\n",
    "print()\n",
    "print(np.linalg.matrix_power(var4,-2))\n",
    "print()"
   ]
  },
  {
   "cell_type": "code",
   "execution_count": null,
   "id": "3424d201-de7b-4dec-9fe4-d6718f15f0a1",
   "metadata": {},
   "outputs": [],
   "source": [
    "var6=np.matrix([[1,2],[3,4]])\n",
    "print(var6)\n",
    "print()\n",
    "print(np.linalg.det(var5))"
   ]
  },
  {
   "cell_type": "code",
   "execution_count": null,
   "id": "38023a9b-6d8e-44c6-aab1-fca169c0a760",
   "metadata": {},
   "outputs": [],
   "source": []
  },
  {
   "cell_type": "code",
   "execution_count": null,
   "id": "7ce2b45c-1ecd-4072-8679-b78ecab4958d",
   "metadata": {},
   "outputs": [],
   "source": []
  }
 ],
 "metadata": {
  "kernelspec": {
   "display_name": "Python 3 (ipykernel)",
   "language": "python",
   "name": "python3"
  },
  "language_info": {
   "codemirror_mode": {
    "name": "ipython",
    "version": 3
   },
   "file_extension": ".py",
   "mimetype": "text/x-python",
   "name": "python",
   "nbconvert_exporter": "python",
   "pygments_lexer": "ipython3",
   "version": "3.13.1"
  }
 },
 "nbformat": 4,
 "nbformat_minor": 5
}
