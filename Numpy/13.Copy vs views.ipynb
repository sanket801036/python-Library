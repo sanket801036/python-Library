{
 "cells": [
  {
   "cell_type": "markdown",
   "id": "165e62fc-65dc-4500-b565-fa9cbbb7a90e",
   "metadata": {},
   "source": [
    "## 1. Views"
   ]
  },
  {
   "cell_type": "markdown",
   "id": "d0f1967d-fc2c-4649-9e52-6dd8a058c103",
   "metadata": {},
   "source": [
    "### Definition: A view is a new array object that looks at the same data as the original array. Changes made to the view will affect the original array, and vice versa. Views are created when you slice an array or use certain functions that return a view."
   ]
  },
  {
   "cell_type": "code",
   "execution_count": 4,
   "id": "177c8204-8326-45d1-a7d8-a6984d9b84a6",
   "metadata": {},
   "outputs": [
    {
     "name": "stdout",
     "output_type": "stream",
     "text": [
      "var :  [ 1 40  3  4]\n",
      "copy :  [1 2 3 4]\n"
     ]
    }
   ],
   "source": [
    "import numpy as np\n",
    "\n",
    "var= np.array([1,2,3,4])\n",
    "co=var.copy()\n",
    "var[1]=40\n",
    "print(\"var : \",var)\n",
    "print(\"copy : \",co)"
   ]
  },
  {
   "cell_type": "code",
   "execution_count": 6,
   "id": "bf0db179-1033-488a-ab5a-509c81d0251b",
   "metadata": {},
   "outputs": [
    {
     "name": "stdout",
     "output_type": "stream",
     "text": [
      "x :  [ 9 40  7  6  5]\n",
      "view :  [ 9 40  7  6  5]\n"
     ]
    }
   ],
   "source": [
    "x=np.array([9,8,7,6,5])\n",
    "vi=x.view()\n",
    "x[1]=40\n",
    "print(\"x : \",x)\n",
    "print(\"view : \",vi)"
   ]
  },
  {
   "cell_type": "markdown",
   "id": "d8a1c83a-c010-476b-bb32-e4c466d558c0",
   "metadata": {},
   "source": [
    "### When to Use Each\n",
    "### Use Views when you want to work with a subset of an array without creating a new copy, and you are okay with changes affecting the original array.\n",
    "### Use Copies when you need to ensure that the original data remains unchanged, or when you want to manipulate data independently."
   ]
  },
  {
   "cell_type": "code",
   "execution_count": null,
   "id": "b901eab3-1168-4548-a5db-283a1b66823e",
   "metadata": {},
   "outputs": [],
   "source": []
  }
 ],
 "metadata": {
  "kernelspec": {
   "display_name": "Python 3 (ipykernel)",
   "language": "python",
   "name": "python3"
  },
  "language_info": {
   "codemirror_mode": {
    "name": "ipython",
    "version": 3
   },
   "file_extension": ".py",
   "mimetype": "text/x-python",
   "name": "python",
   "nbconvert_exporter": "python",
   "pygments_lexer": "ipython3",
   "version": "3.13.1"
  }
 },
 "nbformat": 4,
 "nbformat_minor": 5
}
