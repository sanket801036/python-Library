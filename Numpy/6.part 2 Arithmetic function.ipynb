{
 "cells": [
  {
   "cell_type": "code",
   "execution_count": 2,
   "id": "a66269a4-a428-4ba5-b83a-e9f743f3f0d1",
   "metadata": {},
   "outputs": [],
   "source": [
    "# min(),max(),argmin(),sqrt(),sin(),cos(),cumsum()"
   ]
  },
  {
   "cell_type": "code",
   "execution_count": 4,
   "id": "bc549118-1964-4c72-a5bf-d9da5ba134d6",
   "metadata": {},
   "outputs": [
    {
     "name": "stdout",
     "output_type": "stream",
     "text": [
      "min :  1 0\n",
      "max :  9 8\n",
      "sqrt:  [1.         2.         2.64575131 2.82842712 2.23606798 1.41421356\n",
      " 1.73205081 2.44948974 3.        ]\n"
     ]
    }
   ],
   "source": [
    "import numpy as np\n",
    "var=np.array([1,4,7,8,5,2,3,6,9])\n",
    "\n",
    "print(\"min : \",np.min(var),np.argmin(var))\n",
    "print(\"max : \",np.max(var),np.argmax(var))\n",
    "print(\"sqrt: \",np.sqrt(var))\n"
   ]
  },
  {
   "cell_type": "code",
   "execution_count": 9,
   "id": "e7763d5d-44f1-44fd-a192-b8f39dd4624c",
   "metadata": {},
   "outputs": [
    {
     "name": "stdout",
     "output_type": "stream",
     "text": [
      "[2 1 3]\n"
     ]
    }
   ],
   "source": [
    "var1=np.array([[2,1,3],[9,5,6]])\n",
    "print(np.min(var1,axis=0))"
   ]
  },
  {
   "cell_type": "code",
   "execution_count": 10,
   "id": "f1c98023-9aeb-464d-871a-53866e60e5f1",
   "metadata": {},
   "outputs": [
    {
     "name": "stdout",
     "output_type": "stream",
     "text": [
      "[0.84147098 0.90929743 0.14112001]\n",
      "[ 0.54030231 -0.41614684 -0.9899925 ]\n"
     ]
    }
   ],
   "source": [
    "var2=np.array([1,2,3])\n",
    "print(np.sin(var2))\n",
    "print(np.cos(var2))\n",
    "print(np.cumsum(var2))# community sum # calculates the cumulative sum of element,means it adds up the no. in the array atep by step,so each elements in the \n",
    "# result is the total of all previous elements plus the current one"
   ]
  },
  {
   "cell_type": "code",
   "execution_count": null,
   "id": "6c529926-f339-46bf-89ce-4e8f9aae078e",
   "metadata": {},
   "outputs": [],
   "source": [
    "\n"
   ]
  }
 ],
 "metadata": {
  "kernelspec": {
   "display_name": "Python 3 (ipykernel)",
   "language": "python",
   "name": "python3"
  },
  "language_info": {
   "codemirror_mode": {
    "name": "ipython",
    "version": 3
   },
   "file_extension": ".py",
   "mimetype": "text/x-python",
   "name": "python",
   "nbconvert_exporter": "python",
   "pygments_lexer": "ipython3",
   "version": "3.13.1"
  }
 },
 "nbformat": 4,
 "nbformat_minor": 5
}
