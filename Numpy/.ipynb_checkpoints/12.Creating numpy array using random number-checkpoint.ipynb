{
 "cells": [
  {
   "cell_type": "markdown",
   "id": "2a358594-0411-4401-a2f0-2b3c005a80a6",
   "metadata": {},
   "source": [
    "# Random"
   ]
  },
  {
   "cell_type": "markdown",
   "id": "a27f3cf5-1bdf-4cd7-8975-adb4565e6559",
   "metadata": {},
   "source": [
    "## 1. np.random.rand()\n"
   ]
  },
  {
   "cell_type": "markdown",
   "id": "3144293e-bbbe-4c5b-a5ef-8c98bc4384e0",
   "metadata": {},
   "source": [
    "### Definition: Generates random floats uniformly distributed in the range ([0.0, 1.0))."
   ]
  },
  {
   "cell_type": "code",
   "execution_count": 13,
   "id": "04926ac6-8cb9-4a26-9a61-9017e822608b",
   "metadata": {},
   "outputs": [
    {
     "name": "stdout",
     "output_type": "stream",
     "text": [
      "Random Floats (Uniform Distribution): [0.30478126 0.16465585 0.53408942 0.48482997 0.69243603]\n",
      "[[0.26941233 0.24412552 0.16829104 0.21876422 0.558102  ]\n",
      " [0.40383617 0.06489225 0.25391541 0.24687606 0.69630427]]\n"
     ]
    }
   ],
   "source": [
    "import numpy as np\n",
    "\n",
    "# Generate a 1D array of 5 random floats\n",
    "random_floats = np.random.rand(5)\n",
    "random_floats1 = np.random.rand(2,5)\n",
    "print(\"Random Floats (Uniform Distribution):\", random_floats)\n",
    "print(random_floats1) # 2d"
   ]
  },
  {
   "cell_type": "markdown",
   "id": "fe32ba8d-44de-4140-bcee-7d2459f76280",
   "metadata": {},
   "source": [
    "## 2. np.random.randn()"
   ]
  },
  {
   "cell_type": "markdown",
   "id": "4dc4c86a-ef0e-4270-b23b-453f1ac8ce36",
   "metadata": {},
   "source": [
    "### Close to zero.may return +ve or -ve as well"
   ]
  },
  {
   "cell_type": "code",
   "execution_count": 14,
   "id": "089bacb5-4953-45f9-9551-72e6ea5e4439",
   "metadata": {},
   "outputs": [
    {
     "name": "stdout",
     "output_type": "stream",
     "text": [
      "Random Floats (Normal Distribution): [-0.75832712  0.45741565 -0.06437805  0.34490234 -0.08008734]\n"
     ]
    }
   ],
   "source": [
    "import numpy as np\n",
    "\n",
    "# Generate a 1D array of 5 random floats from a normal distribution\n",
    "random_normal = np.random.randn(5)\n",
    "print(\"Random Floats (Normal Distribution):\", random_normal)"
   ]
  },
  {
   "cell_type": "markdown",
   "id": "b9ffc212-21bf-4d70-98c9-894ff31fe9b8",
   "metadata": {},
   "source": [
    "## 3. np.random.ranf()"
   ]
  },
  {
   "cell_type": "markdown",
   "id": "aa5ace74-7d65-41f5-8143-55c0358176d5",
   "metadata": {},
   "source": [
    "### Generates random floats uniformly distributed in the range ([0.0, 1.0))."
   ]
  },
  {
   "cell_type": "code",
   "execution_count": 15,
   "id": "69ccca0b-6b69-42a5-87d5-d8d8b0002e7c",
   "metadata": {},
   "outputs": [
    {
     "name": "stdout",
     "output_type": "stream",
     "text": [
      "Random Floats (Uniform Distribution using ranf()): [0.63435134 0.68070545 0.53093458 0.44778316 0.55289309]\n"
     ]
    }
   ],
   "source": [
    "random_floats_ranf = np.random.ranf(5)\n",
    "print(\"Random Floats (Uniform Distribution using ranf()):\", random_floats_ranf)\n",
    "# The function ranf() is part of the older NumPy random module, specifically in the context of generating random numbers. However, it is not commonly\n",
    "# used in modern NumPy code. Instead, the more commonly used functions are np.random.rand() and np.random.random(), which serve similar purposes."
   ]
  },
  {
   "cell_type": "markdown",
   "id": "09296fb8-c8d3-4f68-b583-6eefb344db2f",
   "metadata": {},
   "source": [
    "## 4. np.random.randint()"
   ]
  },
  {
   "cell_type": "markdown",
   "id": "3dc2372e-f227-494c-8fe0-3afcf9a8f4ba",
   "metadata": {},
   "source": [
    "### Definition: Generates random integers from the specified range ([low, high))."
   ]
  },
  {
   "cell_type": "code",
   "execution_count": 19,
   "id": "7876c5f7-ae2d-47b6-b5e3-5b235e67d816",
   "metadata": {},
   "outputs": [
    {
     "name": "stdout",
     "output_type": "stream",
     "text": [
      "Random Integers: [2 2 3 6 3]\n",
      "Random Integers: [8 0 7 6 1]\n"
     ]
    }
   ],
   "source": [
    "import numpy as np\n",
    "\n",
    "# Generate a 1D array of 5 random integers between 0 and 10\n",
    "random_integers = np.random.randint(low=0, high=10, size=5)\n",
    "random_integers1 = np.random.randint(0,10,5)\n",
    "print(\"Random Integers:\", random_integers)\n",
    "print(\"Random Integers:\", random_integers1)"
   ]
  },
  {
   "cell_type": "code",
   "execution_count": null,
   "id": "bcf2d651-6d53-4cba-b752-ce79542cf491",
   "metadata": {},
   "outputs": [],
   "source": []
  },
  {
   "cell_type": "code",
   "execution_count": null,
   "id": "5a531c81-66e0-428c-b965-c11939d46b60",
   "metadata": {},
   "outputs": [],
   "source": []
  }
 ],
 "metadata": {
  "kernelspec": {
   "display_name": "Python 3 (ipykernel)",
   "language": "python",
   "name": "python3"
  },
  "language_info": {
   "codemirror_mode": {
    "name": "ipython",
    "version": 3
   },
   "file_extension": ".py",
   "mimetype": "text/x-python",
   "name": "python",
   "nbconvert_exporter": "python",
   "pygments_lexer": "ipython3",
   "version": "3.13.1"
  }
 },
 "nbformat": 4,
 "nbformat_minor": 5
}
