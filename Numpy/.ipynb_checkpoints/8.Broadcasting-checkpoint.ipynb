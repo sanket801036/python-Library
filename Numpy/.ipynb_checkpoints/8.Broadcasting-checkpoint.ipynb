{
 "cells": [
  {
   "cell_type": "markdown",
   "id": "74cd9641-032c-48c4-9693-452251153dd9",
   "metadata": {},
   "source": [
    "# Broadcasting"
   ]
  },
  {
   "cell_type": "code",
   "execution_count": null,
   "id": "549338b9-15e8-433d-baf8-2430104e84b8",
   "metadata": {},
   "outputs": [],
   "source": [
    "# 1) Dimension must be same\n",
    "# 2) Dimensions are compatible if:\n",
    "#                                i.They are equal,or One of them is 1.\n",
    "# it is a way of performing operations on arrays of different shapes by automatically expanding the smaller array to match the sape of larger one"
   ]
  },
  {
   "cell_type": "code",
   "execution_count": 11,
   "id": "2d690180-17ec-4020-a442-790f2cadc35a",
   "metadata": {},
   "outputs": [
    {
     "name": "stdout",
     "output_type": "stream",
     "text": [
      "(3,)\n",
      "[1 2 3]\n",
      "\n",
      "(3, 1)\n",
      "[[1]\n",
      " [2]\n",
      " [3]]\n",
      "\n",
      "[[2 3 4]\n",
      " [3 4 5]\n",
      " [4 5 6]]\n"
     ]
    }
   ],
   "source": [
    "import numpy as np\n",
    "\n",
    "var1=np.array([1,2,3])\n",
    "print(var1.shape)\n",
    "print(var1)\n",
    "print()\n",
    "var2=np.array([[1],[2],[3]])\n",
    "print(var2.shape)\n",
    "print(var2)\n",
    "print()\n",
    "print(var1+var2)"
   ]
  },
  {
   "cell_type": "code",
   "execution_count": 14,
   "id": "fa434095-ed79-422e-a93d-ecea99a556eb",
   "metadata": {},
   "outputs": [
    {
     "name": "stdout",
     "output_type": "stream",
     "text": [
      "(2, 1)\n",
      "(2, 3)\n",
      "\n",
      "[[2 3 4]\n",
      " [3 4 5]]\n"
     ]
    }
   ],
   "source": [
    "x=np.array([[1],[2]])\n",
    "print(x.shape)\n",
    "y=np.array([[1,2,3],[1,2,3]])\n",
    "print(y.shape)\n",
    "print()\n",
    "print(x+y)"
   ]
  },
  {
   "cell_type": "code",
   "execution_count": null,
   "id": "945f783d-45f1-48f9-ad4e-64f6168b56b8",
   "metadata": {},
   "outputs": [],
   "source": []
  }
 ],
 "metadata": {
  "kernelspec": {
   "display_name": "Python 3 (ipykernel)",
   "language": "python",
   "name": "python3"
  },
  "language_info": {
   "codemirror_mode": {
    "name": "ipython",
    "version": 3
   },
   "file_extension": ".py",
   "mimetype": "text/x-python",
   "name": "python",
   "nbconvert_exporter": "python",
   "pygments_lexer": "ipython3",
   "version": "3.13.1"
  }
 },
 "nbformat": 4,
 "nbformat_minor": 5
}
