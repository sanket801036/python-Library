{
 "cells": [
  {
   "cell_type": "markdown",
   "id": "e149710e-93a7-4ed9-b415-b6be0677bcc2",
   "metadata": {},
   "source": [
    "### Arithmetic function:-shiffle,Unique,Resize,Flatten,Ravel"
   ]
  },
  {
   "cell_type": "code",
   "execution_count": 3,
   "id": "32d35885-8e40-4072-8c60-446612fb7a1b",
   "metadata": {},
   "outputs": [
    {
     "name": "stdout",
     "output_type": "stream",
     "text": [
      "[1 2 3 4]\n"
     ]
    }
   ],
   "source": [
    "import numpy as np\n",
    "var=np.array([1,2,3,4])\n",
    "np.random.shuffle(var)\n",
    "print(var)"
   ]
  },
  {
   "cell_type": "code",
   "execution_count": 8,
   "id": "0d8c8584-e8e8-48ad-90a3-340b29106d29",
   "metadata": {},
   "outputs": [
    {
     "name": "stdout",
     "output_type": "stream",
     "text": [
      "(array([1, 2, 3, 4, 5, 6, 7]), array([0, 1, 2, 3, 4, 5, 7]), array([2, 3, 2, 1, 1, 1, 1]))\n"
     ]
    }
   ],
   "source": [
    "a=np.array([1,2,3,4,5,6,2,7,2,1,3])\n",
    "x=np.unique(a,return_index=True,return_counts=True)\n",
    "print(x)"
   ]
  },
  {
   "cell_type": "code",
   "execution_count": 11,
   "id": "5f178f5a-a01d-471e-a7ba-7f6afb2a6f57",
   "metadata": {},
   "outputs": [
    {
     "name": "stdout",
     "output_type": "stream",
     "text": [
      "[[1 2]\n",
      " [3 4]\n",
      " [5 6]]\n"
     ]
    }
   ],
   "source": [
    "var2=np.array([1,2,3,4,5,6,7,8,9])\n",
    "y=np.resize(var2,(3,2))\n",
    "print(y)"
   ]
  },
  {
   "cell_type": "code",
   "execution_count": 15,
   "id": "36dac86d-9400-4c0d-9904-291de7c8f317",
   "metadata": {},
   "outputs": [
    {
     "name": "stdout",
     "output_type": "stream",
     "text": [
      "[[1 2]\n",
      " [3 4]\n",
      " [5 6]]\n",
      "\n",
      "[1 2 3 4 5 6]\n",
      "[1 3 5 2 4 6]\n",
      "[1 2 3 4 5 6]\n",
      "Ravel : [1 3 5 2 4 6]\n",
      "Ravel : [1 2 3 4 5 6]\n",
      "Ravel : [1 2 3 4 5 6]\n"
     ]
    }
   ],
   "source": [
    "var2=np.array([1,2,3,4,5,6,7,8,9])\n",
    "y=np.resize(var2,(3,2))\n",
    "print(y)\n",
    "print()\n",
    "print(y.flatten())\n",
    "print(y.flatten(order=\"F\"))\n",
    "print(y.flatten(order=\"C\"))\n",
    "print(\"Ravel :\",np.ravel(y,order=\"F\"))\n",
    "print(\"Ravel :\",np.ravel(y,order=\"A\"))\n",
    "print(\"Ravel :\",np.ravel(y,order=\"K\"))"
   ]
  },
  {
   "cell_type": "code",
   "execution_count": null,
   "id": "8cbf5594-e409-4f1a-bb12-732855d50ccf",
   "metadata": {},
   "outputs": [],
   "source": []
  }
 ],
 "metadata": {
  "kernelspec": {
   "display_name": "Python 3 (ipykernel)",
   "language": "python",
   "name": "python3"
  },
  "language_info": {
   "codemirror_mode": {
    "name": "ipython",
    "version": 3
   },
   "file_extension": ".py",
   "mimetype": "text/x-python",
   "name": "python",
   "nbconvert_exporter": "python",
   "pygments_lexer": "ipython3",
   "version": "3.13.1"
  }
 },
 "nbformat": 4,
 "nbformat_minor": 5
}
