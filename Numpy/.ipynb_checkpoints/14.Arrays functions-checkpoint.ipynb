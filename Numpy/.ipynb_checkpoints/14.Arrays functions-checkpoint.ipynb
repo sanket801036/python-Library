{
 "cells": [
  {
   "cell_type": "markdown",
   "id": "ec2726c4-f53e-48b4-8790-7d4dc037b039",
   "metadata": {},
   "source": [
    "# Search "
   ]
  },
  {
   "cell_type": "markdown",
   "id": "69fabf45-2ba1-45c6-960d-7cf51006a632",
   "metadata": {},
   "source": [
    "## Defination : Search an array for certain value,and return the indexes that get match."
   ]
  },
  {
   "cell_type": "code",
   "execution_count": 6,
   "id": "1afc6728-d043-4767-a152-03b40f49c125",
   "metadata": {},
   "outputs": [
    {
     "name": "stdout",
     "output_type": "stream",
     "text": [
      "(array([ 1,  6,  9, 12]),)\n",
      "(array([ 1,  3,  5,  6,  7,  9, 11, 12]),)\n"
     ]
    }
   ],
   "source": [
    "import numpy as np\n",
    "var=np.array([1,2,3,4,5,6,2,4,5,2,7,98,2])\n",
    "x=np.where(var==2)\n",
    "y=np.where((var%2)==0)\n",
    "print(x)\n",
    "print(y)"
   ]
  },
  {
   "cell_type": "markdown",
   "id": "50a7e1ac-836e-47ef-97e1-d4e75b10cd16",
   "metadata": {},
   "source": [
    "# Search Sorted array\n"
   ]
  },
  {
   "cell_type": "markdown",
   "id": "b42f9730-3cf0-463b-bd75-6dee0c7369f4",
   "metadata": {},
   "source": [
    "## Defination:- Which performa a binary search in the array, and return the index where specified value would be inserted to maintain the search order "
   ]
  },
  {
   "cell_type": "code",
   "execution_count": 9,
   "id": "39e27f4a-b595-458d-8ecf-c2f4eee9c320",
   "metadata": {},
   "outputs": [
    {
     "name": "stdout",
     "output_type": "stream",
     "text": [
      "3\n",
      "[3 7 0 1]\n"
     ]
    }
   ],
   "source": [
    "var1=np.array([1,3,4,6,7,8,9])\n",
    "x1=np.searchsorted(var1,5)\n",
    "x2=np.searchsorted(var1,[4,10,0,2],side=\"right\")\n",
    "print(x1)\n",
    "print(x2)"
   ]
  },
  {
   "cell_type": "markdown",
   "id": "14dffcdd-b843-4b7a-8e1b-4199fb62d9dd",
   "metadata": {},
   "source": [
    "# Sort Array"
   ]
  },
  {
   "cell_type": "markdown",
   "id": "93f1772a-623a-4f55-b860-605d9e27b914",
   "metadata": {},
   "source": [
    "## Defination:- Ordered sequence is any sequence that has an order corresponding to elements, like numeric or alphabetical,ascending or descending."
   ]
  },
  {
   "cell_type": "code",
   "execution_count": 15,
   "id": "abeaedc6-1bef-4c60-9813-44d18dd7ea5f",
   "metadata": {},
   "outputs": [
    {
     "name": "stdout",
     "output_type": "stream",
     "text": [
      "[ 1  2  3  5  7  8  9 10 44]\n",
      "['a' 'e' 'h' 'r']\n",
      "[[ 4  5  6]\n",
      " [ 1  2  3]\n",
      " [ 8  9 10]]\n"
     ]
    }
   ],
   "source": [
    "var2=np.array([7,8,9,1,2,10,44,3,5])\n",
    "print(np.sort(var2))\n",
    "\n",
    "var3=np.array([\"a\",\"r\",\"h\",\"e\"])\n",
    "print(np.sort(var3))\n",
    "\n",
    "var4=np.array([[6,5,4],[2,1,3],[10,8,9]])\n",
    "print(np.sort(var4))"
   ]
  },
  {
   "cell_type": "markdown",
   "id": "9c37a485-115c-4498-9256-2424fae17960",
   "metadata": {},
   "source": [
    "# Filter Array"
   ]
  },
  {
   "cell_type": "markdown",
   "id": "7036d5ad-105c-41c1-bae4-fe0aa20eacd2",
   "metadata": {},
   "source": [
    "## Defination:-Getting some elements out of an existing array and creating a new array out of them. "
   ]
  },
  {
   "cell_type": "code",
   "execution_count": 16,
   "id": "551fea81-1c16-49cc-bb21-3369553d712a",
   "metadata": {},
   "outputs": [
    {
     "name": "stdout",
     "output_type": "stream",
     "text": [
      "['a' 'f']\n"
     ]
    }
   ],
   "source": [
    "var5=np.array([\"a\",\"s\",\"d\",\"f\"])\n",
    "f=[True,False,False,True]\n",
    "new_a=var5[f]\n",
    "print(new_a)"
   ]
  },
  {
   "cell_type": "code",
   "execution_count": null,
   "id": "1cf6ca61-f801-4fe9-ad6f-71b8b77ca88c",
   "metadata": {},
   "outputs": [],
   "source": []
  }
 ],
 "metadata": {
  "kernelspec": {
   "display_name": "Python 3 (ipykernel)",
   "language": "python",
   "name": "python3"
  },
  "language_info": {
   "codemirror_mode": {
    "name": "ipython",
    "version": 3
   },
   "file_extension": ".py",
   "mimetype": "text/x-python",
   "name": "python",
   "nbconvert_exporter": "python",
   "pygments_lexer": "ipython3",
   "version": "3.13.1"
  }
 },
 "nbformat": 4,
 "nbformat_minor": 5
}
