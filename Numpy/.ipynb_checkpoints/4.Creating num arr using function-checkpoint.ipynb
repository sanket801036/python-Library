{
 "cells": [
  {
   "cell_type": "code",
   "execution_count": null,
   "id": "4e400763-3a92-4296-a312-babec3486844",
   "metadata": {},
   "outputs": [],
   "source": [
    "# Create NumPy Array Using Numpy Functions\n",
    "# Spacial NumPy Array\n",
    "# Array filled with 0's\n",
    "# Array filled with 1's\n",
    "# Create an empty array\n",
    "# An array with a range of elements\n",
    "# Array diagonal element filled with 1's\n",
    "# Create an array with values that are spaced linearly in a apecified interval"
   ]
  },
  {
   "cell_type": "code",
   "execution_count": 2,
   "id": "3c152726-272f-4305-90d1-e7163afd775f",
   "metadata": {},
   "outputs": [],
   "source": [
    " import numpy as np"
   ]
  },
  {
   "cell_type": "markdown",
   "id": "6f737074-034c-49b3-94b5-43412ac26d27",
   "metadata": {},
   "source": [
    "# Array filled with 1's"
   ]
  },
  {
   "cell_type": "code",
   "execution_count": null,
   "id": "599f86d5-8fa9-4c41-913a-eb61cd1e3b78",
   "metadata": {},
   "outputs": [],
   "source": [
    "ar_zero =np.zeros(4)\n",
    "ar_zero1=np.zeros((3,4))\n",
    "print(ar_zero)\n",
    "print()\n",
    "print(ar_zero1)"
   ]
  },
  {
   "cell_type": "markdown",
   "id": "2bb1a401-78de-4beb-b16d-f2840ca43848",
   "metadata": {},
   "source": [
    "# Array filled with 1's"
   ]
  },
  {
   "cell_type": "code",
   "execution_count": 17,
   "id": "d71f3e27-efcc-42b0-b1e2-0dd40434a458",
   "metadata": {},
   "outputs": [
    {
     "name": "stdout",
     "output_type": "stream",
     "text": [
      "[1. 1. 1. 1.]\n"
     ]
    }
   ],
   "source": [
    "ar_one=np.ones(4)\n",
    "print(ar_one)"
   ]
  },
  {
   "cell_type": "markdown",
   "id": "9b2a909a-201a-4d96-bb2c-226b4abac005",
   "metadata": {},
   "source": [
    "# Create an empty array\n"
   ]
  },
  {
   "cell_type": "code",
   "execution_count": 10,
   "id": "537f75ee-418d-4c5e-a9d7-43a810cb3a28",
   "metadata": {},
   "outputs": [
    {
     "name": "stdout",
     "output_type": "stream",
     "text": [
      "[[3.44900708e-307 4.22786102e-307 2.78145267e-307]\n",
      " [4.00537061e-307 9.45708167e-308 0.00000000e+000]]\n"
     ]
    }
   ],
   "source": [
    "ar_em=np.empty((2,3))\n",
    "print(ar_em)\n",
    "# it will give values were already in memory at that location(previously memomry ka data a jata hai)"
   ]
  },
  {
   "cell_type": "markdown",
   "id": "368c97bb-4873-4170-ab62-2bda78d7cfc7",
   "metadata": {},
   "source": [
    "# An array with a range of elements"
   ]
  },
  {
   "cell_type": "code",
   "execution_count": 12,
   "id": "46940995-f612-4f3a-8363-ebd6e519dcce",
   "metadata": {},
   "outputs": [
    {
     "name": "stdout",
     "output_type": "stream",
     "text": [
      "[0 1 2 3]\n"
     ]
    }
   ],
   "source": [
    "ar_rn=np.arange(4)\n",
    "print(ar_rn)"
   ]
  },
  {
   "cell_type": "markdown",
   "id": "9012f538-aa3a-4c9d-97eb-687ad8fcf8ac",
   "metadata": {},
   "source": [
    "# Array diagonal element filled with 1's"
   ]
  },
  {
   "cell_type": "code",
   "execution_count": 13,
   "id": "47475fe9-da97-4172-9d4b-1f4ad6e43735",
   "metadata": {},
   "outputs": [
    {
     "name": "stdout",
     "output_type": "stream",
     "text": [
      "[[1. 0. 0.]\n",
      " [0. 1. 0.]\n",
      " [0. 0. 1.]]\n"
     ]
    }
   ],
   "source": [
    "ar_dia=np.eye(3)\n",
    "print(ar_dia)"
   ]
  },
  {
   "cell_type": "code",
   "execution_count": 15,
   "id": "7195cfc7-9a47-49d0-aa2f-c63b48663586",
   "metadata": {},
   "outputs": [
    {
     "name": "stdout",
     "output_type": "stream",
     "text": [
      "[[1. 0. 0. 0. 0.]\n",
      " [0. 1. 0. 0. 0.]\n",
      " [0. 0. 1. 0. 0.]]\n"
     ]
    }
   ],
   "source": [
    "ar_dia1=np.eye(3,5)\n",
    "print(ar_dia1)"
   ]
  },
  {
   "cell_type": "markdown",
   "id": "c67f14d0-2198-4ae8-bc59-90c305dc6e48",
   "metadata": {},
   "source": [
    "# Create an array with values that are spaced linearly in a a specified interval(linspace)\n"
   ]
  },
  {
   "cell_type": "code",
   "execution_count": 20,
   "id": "b7637ba5-5849-44bc-b7af-1acc90b6ac60",
   "metadata": {},
   "outputs": [
    {
     "name": "stdout",
     "output_type": "stream",
     "text": [
      "[ 1.    3.25  5.5   7.75 10.  ]\n"
     ]
    }
   ],
   "source": [
    "# evenly spaced values over a specified renage\n",
    "# numpy.linspace(start,stop,num=50,endpoint=True,retstep=False,dtype=None,axix=0)\n",
    "# num:(optional)no. of sample,default is 50\n",
    "\n",
    "ar_lin=np.linspace(1,10,num=5)\n",
    "print(ar_lin)"
   ]
  },
  {
   "cell_type": "code",
   "execution_count": null,
   "id": "cf4a7fc6-497b-4927-a2b1-56dc24188969",
   "metadata": {},
   "outputs": [],
   "source": []
  }
 ],
 "metadata": {
  "kernelspec": {
   "display_name": "Python 3 (ipykernel)",
   "language": "python",
   "name": "python3"
  },
  "language_info": {
   "codemirror_mode": {
    "name": "ipython",
    "version": 3
   },
   "file_extension": ".py",
   "mimetype": "text/x-python",
   "name": "python",
   "nbconvert_exporter": "python",
   "pygments_lexer": "ipython3",
   "version": "3.13.1"
  }
 },
 "nbformat": 4,
 "nbformat_minor": 5
}
