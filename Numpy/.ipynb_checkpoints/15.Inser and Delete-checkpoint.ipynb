{
 "cells": [
  {
   "cell_type": "markdown",
   "id": "3960b3a2-1091-42f1-8dc4-750cd25e95ae",
   "metadata": {},
   "source": [
    "# Insert"
   ]
  },
  {
   "cell_type": "code",
   "execution_count": 11,
   "id": "d99d16c9-a1d4-49c1-970c-df22b7fa758c",
   "metadata": {},
   "outputs": [
    {
     "name": "stdout",
     "output_type": "stream",
     "text": [
      "[ 1  2 40  3  4  5]\n",
      "[ 1  2 40  3 40  4  5]\n",
      "[1.  2.  3.  4.  5.  6.4]\n"
     ]
    }
   ],
   "source": [
    "import numpy as np\n",
    "var=np.array([1,2,3,4,5])\n",
    "v=np.insert(var,2,40)\n",
    "v1=np.insert(var,(2,3),40) # Float value ko assign nhi karenga only integer value asiign ho skti hai\n",
    "x=np.append(var,6.4)\n",
    "print(v)\n",
    "print(v1)\n",
    "print(x)\n"
   ]
  },
  {
   "cell_type": "code",
   "execution_count": 12,
   "id": "9bb23467-7968-46ea-a7aa-15942c978e6a",
   "metadata": {},
   "outputs": [
    {
     "name": "stdout",
     "output_type": "stream",
     "text": [
      "[[1 2 6 3]\n",
      " [4 5 6 6]]\n",
      "\n",
      "[[1 2 3]\n",
      " [4 5 6]\n",
      " [6 6 6]]\n",
      "\n",
      "[[ 1  2 22  3]\n",
      " [ 4  5 33  6]]\n",
      "\n",
      "[[ 1  2  3]\n",
      " [ 4  5  6]\n",
      " [44 55 66]]\n"
     ]
    }
   ],
   "source": [
    "var1=np.array([[1,2,3],[4,5,6]])\n",
    "v2=np.insert(var1,2,6,axis=1)\n",
    "v3=np.insert(var1,2,6,axis=0)\n",
    "v4=np.insert(var1,2,[22,33],axis=1)\n",
    "v5=np.append(var1,[[44,55,66]],axis=0)\n",
    "print(v2)\n",
    "print()\n",
    "print(v3)\n",
    "print()\n",
    "print(v4)\n",
    "print()\n",
    "print(v5)"
   ]
  },
  {
   "cell_type": "markdown",
   "id": "0a128644-c702-405d-bb66-0761af4693c4",
   "metadata": {},
   "source": [
    "# Delete"
   ]
  },
  {
   "cell_type": "code",
   "execution_count": 13,
   "id": "d96a797e-7530-4937-bcdf-5ca84fcec4b5",
   "metadata": {},
   "outputs": [
    {
     "name": "stdout",
     "output_type": "stream",
     "text": [
      "[1 2 3 4 5]\n",
      "[1 2 4 5]\n"
     ]
    }
   ],
   "source": [
    "import numpy as np\n",
    "var1=np.array([1,2,3,4,5])\n",
    "print(var1)\n",
    "d=np.delete(var1,2)\n",
    "print(d)"
   ]
  },
  {
   "cell_type": "code",
   "execution_count": null,
   "id": "9a5828c1-0b98-475e-8631-a205efe86795",
   "metadata": {},
   "outputs": [],
   "source": []
  }
 ],
 "metadata": {
  "kernelspec": {
   "display_name": "Python 3 (ipykernel)",
   "language": "python",
   "name": "python3"
  },
  "language_info": {
   "codemirror_mode": {
    "name": "ipython",
    "version": 3
   },
   "file_extension": ".py",
   "mimetype": "text/x-python",
   "name": "python",
   "nbconvert_exporter": "python",
   "pygments_lexer": "ipython3",
   "version": "3.13.1"
  }
 },
 "nbformat": 4,
 "nbformat_minor": 5
}
