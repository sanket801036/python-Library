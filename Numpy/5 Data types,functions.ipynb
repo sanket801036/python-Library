{
 "cells": [
  {
   "cell_type": "markdown",
   "id": "08d301c0-667b-4713-bbfe-39ec64c2d9a0",
   "metadata": {},
   "source": [
    "# Data type"
   ]
  },
  {
   "cell_type": "code",
   "execution_count": 2,
   "id": "9014588b-867a-4760-8723-a9b83bf550f3",
   "metadata": {},
   "outputs": [
    {
     "name": "stdout",
     "output_type": "stream",
     "text": [
      "Data Type:  int64\n"
     ]
    }
   ],
   "source": [
    "import numpy as np\n",
    "var=np.array([1,2,3,4,5,6,7,8])\n",
    "print(\"Data Type: \",var.dtype)"
   ]
  },
  {
   "cell_type": "code",
   "execution_count": 3,
   "id": "61600d0c-ec2b-45d4-b3d0-4ab9cb762ddd",
   "metadata": {},
   "outputs": [
    {
     "name": "stdout",
     "output_type": "stream",
     "text": [
      "Data Type:  float64\n"
     ]
    }
   ],
   "source": [
    "var=np.array([1.8,2.2,3.5,4.5])\n",
    "print(\"Data Type: \",var.dtype)"
   ]
  },
  {
   "cell_type": "code",
   "execution_count": 4,
   "id": "6e41f107-235e-4e9d-be30-45acf666997a",
   "metadata": {},
   "outputs": [
    {
     "name": "stdout",
     "output_type": "stream",
     "text": [
      "Data Type:  <U1\n"
     ]
    }
   ],
   "source": [
    "var=np.array([\"a\",\"a\",\"d\",\"f\"])\n",
    "print(\"Data Type: \",var.dtype) # string ka sign= <U1 "
   ]
  },
  {
   "cell_type": "code",
   "execution_count": 9,
   "id": "6734bed6-92ba-4251-8bc4-fa7c9320a0d1",
   "metadata": {},
   "outputs": [
    {
     "name": "stdout",
     "output_type": "stream",
     "text": [
      "Data Type:  <U21\n"
     ]
    }
   ],
   "source": [
    "var=np.array([\"d\",\"r\",\"g\",1,2,3,4,5,6,7,8,])\n",
    "print(\"Data Type: \",var.dtype)"
   ]
  },
  {
   "cell_type": "code",
   "execution_count": 14,
   "id": "af642d3c-e858-40fd-b2ed-7664aab553e3",
   "metadata": {},
   "outputs": [
    {
     "name": "stdout",
     "output_type": "stream",
     "text": [
      "Data Type :  int8\n",
      "[1 2 3 4]\n"
     ]
    }
   ],
   "source": [
    "x=np.array([1,2,3,4],dtype=np.int8)\n",
    "print(\"Data Type : \",x.dtype)\n",
    "print(x)"
   ]
  },
  {
   "cell_type": "code",
   "execution_count": 15,
   "id": "5dda95ef-9208-426b-9bb3-49541171ddc4",
   "metadata": {},
   "outputs": [
    {
     "name": "stdout",
     "output_type": "stream",
     "text": [
      "Data Type :  float32\n",
      "[1. 2. 3. 4.]\n"
     ]
    }
   ],
   "source": [
    "x=np.array([1,2,3,4],dtype=\"f\")\n",
    "print(\"Data Type : \",x.dtype)\n",
    "print(x)"
   ]
  },
  {
   "cell_type": "code",
   "execution_count": 19,
   "id": "aad6d28e-f561-47d8-9b08-46b9f441b074",
   "metadata": {},
   "outputs": [
    {
     "name": "stdout",
     "output_type": "stream",
     "text": [
      "Data Type :  int64\n",
      "Data Type :  float32\n",
      "[1 2 3 4 8 9]\n",
      "[1. 2. 3. 4. 8. 9.]\n"
     ]
    }
   ],
   "source": [
    "x2=np.array([1,2,3,4,8,9])\n",
    "new=np.float32(x2)\n",
    "print(\"Data Type : \",x2.dtype)\n",
    "print(\"Data Type : \",new.dtype)\n",
    "print(x2)\n",
    "print(new)"
   ]
  },
  {
   "cell_type": "code",
   "execution_count": 21,
   "id": "ee6ee73d-fd44-4037-8ecc-01d716384e67",
   "metadata": {},
   "outputs": [
    {
     "name": "stdout",
     "output_type": "stream",
     "text": [
      "Data Type :  int64\n",
      "Data Type :  float32\n",
      "Data Type :  int64\n",
      "[1 2 3 4 8 9]\n",
      "[1. 2. 3. 4. 8. 9.]\n",
      "[1. 2. 3. 4. 8. 9.]\n"
     ]
    }
   ],
   "source": [
    "x2=np.array([1,2,3,4,8,9])\n",
    "new=np.float32(x2)\n",
    "new1=np.int_(new)\n",
    "print(\"Data Type : \",x2.dtype)\n",
    "print(\"Data Type : \",new.dtype)\n",
    "print(\"Data Type : \",new1.dtype)\n",
    "print(x2)\n",
    "print(new)\n",
    "print(new)"
   ]
  },
  {
   "cell_type": "code",
   "execution_count": 22,
   "id": "e7f369b5-8f4b-4114-bf1b-835b31c63631",
   "metadata": {},
   "outputs": [
    {
     "name": "stdout",
     "output_type": "stream",
     "text": [
      "[1 2 3 4 8 9]\n",
      "[1. 2. 3. 4. 8. 9.]\n"
     ]
    }
   ],
   "source": [
    "x3=np.array([1,2,3,4,8,9])\n",
    "new_1=x3.astype(float)\n",
    "print(x3)\n",
    "print(new_1)"
   ]
  },
  {
   "cell_type": "code",
   "execution_count": null,
   "id": "24dd541f-4154-4a99-bcda-0ab30667f6f7",
   "metadata": {},
   "outputs": [],
   "source": []
  }
 ],
 "metadata": {
  "kernelspec": {
   "display_name": "Python 3 (ipykernel)",
   "language": "python",
   "name": "python3"
  },
  "language_info": {
   "codemirror_mode": {
    "name": "ipython",
    "version": 3
   },
   "file_extension": ".py",
   "mimetype": "text/x-python",
   "name": "python",
   "nbconvert_exporter": "python",
   "pygments_lexer": "ipython3",
   "version": "3.13.1"
  }
 },
 "nbformat": 4,
 "nbformat_minor": 5
}
