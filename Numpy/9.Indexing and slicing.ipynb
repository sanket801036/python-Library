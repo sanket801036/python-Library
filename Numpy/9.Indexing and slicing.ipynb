{
 "cells": [
  {
   "cell_type": "markdown",
   "id": "8d2800d2-76ed-4295-94f4-6adf269e58e6",
   "metadata": {},
   "source": [
    "# Indexing"
   ]
  },
  {
   "cell_type": "code",
   "execution_count": 1,
   "id": "fc2980b7-02ae-448d-8b40-176c407c13f5",
   "metadata": {},
   "outputs": [
    {
     "name": "stdout",
     "output_type": "stream",
     "text": [
      "8\n",
      "8\n"
     ]
    }
   ],
   "source": [
    "import numpy as np\n",
    "var=np.array([9,8,7,6])\n",
    "print(var[1])\n",
    "print(var[-3])"
   ]
  },
  {
   "cell_type": "code",
   "execution_count": 2,
   "id": "4ba75fca-ebab-4f2e-a111-68dfbb11b40a",
   "metadata": {},
   "outputs": [
    {
     "name": "stdout",
     "output_type": "stream",
     "text": [
      "[[9 8 7]\n",
      " [4 5 6]]\n",
      "2\n",
      "\n",
      "7\n"
     ]
    }
   ],
   "source": [
    "var1=np.array([[9,8,7],[4,5,6]])\n",
    "print(var1)\n",
    "print(var1.ndim)\n",
    "print()\n",
    "print(var1[0,2])"
   ]
  },
  {
   "cell_type": "code",
   "execution_count": 3,
   "id": "cb74fc1f-093a-478f-90f6-6219761a3fd9",
   "metadata": {},
   "outputs": [
    {
     "name": "stdout",
     "output_type": "stream",
     "text": [
      "[[[1 2]\n",
      "  [6 7]]]\n",
      "3\n",
      "\n",
      "7\n"
     ]
    }
   ],
   "source": [
    "var2=np.array([[[1,2],[6,7]]])\n",
    "print(var2)\n",
    "print(var2.ndim)\n",
    "print()\n",
    "print(var2[0,1,1])"
   ]
  },
  {
   "cell_type": "markdown",
   "id": "b2ff56b3-8029-411c-b591-9ddd7d7b2900",
   "metadata": {},
   "source": [
    "# Slicing"
   ]
  },
  {
   "cell_type": "code",
   "execution_count": 12,
   "id": "8550111a-f865-4b13-b4ed-bb19f316bc20",
   "metadata": {},
   "outputs": [
    {
     "name": "stdout",
     "output_type": "stream",
     "text": [
      "2 to 5 :  [8 7 6 5]\n",
      "2 to End : [8 7 6 5 4 3]\n",
      "start to 5:  [9 8 7 6 5]\n",
      "stop: [9 7 5 3]\n",
      "stop1: [8 6 4]\n"
     ]
    }
   ],
   "source": [
    "s=np.array([9,8,7,6,5,4,3])\n",
    "print(\"2 to 5 : \",s[1:5])\n",
    "print(\"2 to End :\",s[1:])\n",
    "print(\"start to 5: \",s[:5])\n",
    "print(\"stop:\",s[::2])\n",
    "print(\"stop1:\",s[1:6:2])"
   ]
  },
  {
   "cell_type": "code",
   "execution_count": 15,
   "id": "bb10aa38-4490-480c-b028-83bb7d46bc86",
   "metadata": {},
   "outputs": [
    {
     "name": "stdout",
     "output_type": "stream",
     "text": [
      "[[ 1  2  3  4  5]\n",
      " [ 9  8  7  6  5]\n",
      " [11 12 13 14 15]]\n",
      "8 to 5:- [8 7 6 5]\n"
     ]
    }
   ],
   "source": [
    "s1=np.array([[1,2,3,4,5],[9,8,7,6,5],[11,12,13,14,15]])\n",
    "print(s1)\n",
    "print(\"8 to 5:-\",s1[1,1:])"
   ]
  },
  {
   "cell_type": "code",
   "execution_count": null,
   "id": "552b379e-ef5f-453e-ade8-b72bf0b2b840",
   "metadata": {},
   "outputs": [],
   "source": []
  }
 ],
 "metadata": {
  "kernelspec": {
   "display_name": "Python 3 (ipykernel)",
   "language": "python",
   "name": "python3"
  },
  "language_info": {
   "codemirror_mode": {
    "name": "ipython",
    "version": 3
   },
   "file_extension": ".py",
   "mimetype": "text/x-python",
   "name": "python",
   "nbconvert_exporter": "python",
   "pygments_lexer": "ipython3",
   "version": "3.13.1"
  }
 },
 "nbformat": 4,
 "nbformat_minor": 5
}
