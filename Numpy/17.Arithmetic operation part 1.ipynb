{
 "cells": [
  {
   "cell_type": "code",
   "execution_count": 8,
   "id": "f5ed401b-dfbe-4693-8a94-34265830b464",
   "metadata": {},
   "outputs": [
    {
     "name": "stdout",
     "output_type": "stream",
     "text": [
      "[4 5 6 7]\n",
      "[ 3  6  9 12]\n",
      "[0.33333333 0.66666667 1.         1.33333333]\n",
      "[1 2 0 1]\n"
     ]
    }
   ],
   "source": [
    "import numpy as np\n",
    "var= np.array([1,2,3,4])\n",
    "varadd= var+3\n",
    "varadd1= var*3\n",
    "varadd2= var/3\n",
    "varadd3= var%3\n",
    "print(varadd)\n",
    "print(varadd1)\n",
    "print(varadd2)\n",
    "print(varadd3)\n"
   ]
  },
  {
   "cell_type": "code",
   "execution_count": 13,
   "id": "a4ea188b-6ede-445f-95e7-3daa46019402",
   "metadata": {},
   "outputs": [
    {
     "name": "stdout",
     "output_type": "stream",
     "text": [
      "[1 0 0 0]\n",
      "[2 4 6 8]\n",
      "[2 4 6 8]\n"
     ]
    }
   ],
   "source": [
    "var= np.array([1,2,3,4])\n",
    "var1= np.array([1,2,3,4])\n",
    "varadd1= var+var1\n",
    "varadd=np.add(var,var1)\n",
    "v=np.reciprocal(var)\n",
    "print(v)\n",
    "print(varadd)\n",
    "print(varadd1)"
   ]
  },
  {
   "cell_type": "markdown",
   "id": "bf619467-564e-487a-bd73-48e8ba9655ce",
   "metadata": {},
   "source": [
    "## 2d"
   ]
  },
  {
   "cell_type": "code",
   "execution_count": 11,
   "id": "8c256cd3-faa9-49ad-9994-cedb2a476fed",
   "metadata": {},
   "outputs": [
    {
     "name": "stdout",
     "output_type": "stream",
     "text": [
      "[[ 1  4  9 16]\n",
      " [ 1  4  9 16]]\n"
     ]
    }
   ],
   "source": [
    "a=np.array([[1,2,3,4],[1,2,3,4]])\n",
    "b=np.array([[1,2,3,4],[1,2,3,4]])\n",
    "mul=a*b\n",
    "print(mul)"
   ]
  },
  {
   "cell_type": "code",
   "execution_count": null,
   "id": "ca2c7d23-2a73-4fdb-8b6d-f9486bb3b2b7",
   "metadata": {},
   "outputs": [],
   "source": []
  }
 ],
 "metadata": {
  "kernelspec": {
   "display_name": "Python 3 (ipykernel)",
   "language": "python",
   "name": "python3"
  },
  "language_info": {
   "codemirror_mode": {
    "name": "ipython",
    "version": 3
   },
   "file_extension": ".py",
   "mimetype": "text/x-python",
   "name": "python",
   "nbconvert_exporter": "python",
   "pygments_lexer": "ipython3",
   "version": "3.13.1"
  }
 },
 "nbformat": 4,
 "nbformat_minor": 5
}
