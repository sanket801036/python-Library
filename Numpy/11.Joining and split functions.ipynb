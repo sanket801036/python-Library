{
 "cells": [
  {
   "cell_type": "markdown",
   "id": "4f8f1a14-071e-48ca-afc9-fa0ae0c9ed11",
   "metadata": {},
   "source": [
    "# Putting contents of two or more arrays in a single array.\n"
   ]
  },
  {
   "cell_type": "code",
   "execution_count": 21,
   "id": "02bc0b55-3f4d-4d4a-b044-f41f5ab08ad1",
   "metadata": {},
   "outputs": [
    {
     "name": "stdout",
     "output_type": "stream",
     "text": [
      "Stacking along axis 1:\n",
      "[[1 9]\n",
      " [2 8]\n",
      " [3 7]\n",
      " [4 6]]\n",
      "\n",
      "Stacking along axis 0:\n",
      "[[1 2 3 4]\n",
      " [9 8 7 6]]\n",
      "\n",
      "Horizontal stacking (hstack):\n",
      "[1 2 3 4 9 8 7 6]\n",
      "\n",
      "Vertical stacking (vstack):\n",
      "[[1 2 3 4]\n",
      " [9 8 7 6]]\n",
      "\n",
      "Depth stacking (dstack):\n",
      "[[[1 9]\n",
      "  [2 8]\n",
      "  [3 7]\n",
      "  [4 6]]]\n"
     ]
    }
   ],
   "source": [
    "import numpy as np\n",
    "\n",
    "var_1 = np.array([1, 2, 3, 4])\n",
    "var_2 = np.array([9, 8, 7, 6])\n",
    "\n",
    "# Stacking along axis 1\n",
    "a_new_axis1 = np.stack((var_1, var_2), axis=1)  # Stack along columns\n",
    "print(\"Stacking along axis 1:\")\n",
    "print(a_new_axis1)\n",
    "\n",
    "# Stacking along axis 0\n",
    "a_new_axis0 = np.stack((var_1, var_2), axis=0)  # Stack along rows\n",
    "print(\"\\nStacking along axis 0:\")\n",
    "print(a_new_axis0)\n",
    "\n",
    "# Horizontal stacking (equivalent to stacking along axis 1)\n",
    "a_hstack = np.hstack((var_1, var_2))\n",
    "print(\"\\nHorizontal stacking (hstack):\")\n",
    "print(a_hstack)\n",
    "\n",
    "# Vertical stacking (equivalent to stacking along axis 0)\n",
    "a_vstack = np.vstack((var_1, var_2))\n",
    "print(\"\\nVertical stacking (vstack):\")\n",
    "print(a_vstack)\n",
    "\n",
    "# Depth stacking (dstack) - this will create a 3D array\n",
    "a_dstack = np.dstack((var_1, var_2))\n",
    "print(\"\\nDepth stacking (dstack):\")\n",
    "print(a_dstack)"
   ]
  },
  {
   "cell_type": "markdown",
   "id": "af0eaa1e-32d9-45e9-92be-d146987e0396",
   "metadata": {},
   "source": [
    "# Overview of Split Functions\n"
   ]
  },
  {
   "cell_type": "markdown",
   "id": "4ddf076d-8775-488d-bfee-aa8c2cd5f513",
   "metadata": {},
   "source": [
    "### Divide an array into multiple sub-arrays"
   ]
  },
  {
   "cell_type": "markdown",
   "id": "52089ba3-f766-4143-94cd-b991fb52fa87",
   "metadata": {},
   "source": [
    "## 1. Using np.split"
   ]
  },
  {
   "cell_type": "code",
   "execution_count": 23,
   "id": "f04fa592-ba52-488c-90d4-b362929578fa",
   "metadata": {},
   "outputs": [
    {
     "name": "stdout",
     "output_type": "stream",
     "text": [
      "1D Array Split into 3 Parts:\n",
      "[array([1, 2]), array([3, 4]), array([5, 6])]\n",
      "\n",
      "2D Array Split into 3 Parts along Axis 0:\n",
      "[array([[1, 2, 3]]), array([[4, 5, 6]]), array([[7, 8, 9]])]\n",
      "\n",
      "2D Array Split into 3 Parts along Axis 1:\n",
      "[array([[1],\n",
      "       [4],\n",
      "       [7]]), array([[2],\n",
      "       [5],\n",
      "       [8]]), array([[3],\n",
      "       [6],\n",
      "       [9]])]\n"
     ]
    }
   ],
   "source": [
    "import numpy as np\n",
    "\n",
    "# Create a 1D array\n",
    "arr1D = np.array([1, 2, 3, 4, 5, 6])\n",
    "\n",
    "# Split the array into 3 equal parts\n",
    "split_arr1D = np.split(arr1D, 3)\n",
    "print(\"1D Array Split into 3 Parts:\")\n",
    "print(split_arr1D)\n",
    "\n",
    "# Create a 2D array\n",
    "arr2D = np.array([[1, 2, 3], [4, 5, 6], [7, 8, 9]])\n",
    "\n",
    "# Split the 2D array into 3 equal parts along axis 0 (rows)\n",
    "split_arr2D_axis0 = np.split(arr2D, 3, axis=0)\n",
    "print(\"\\n2D Array Split into 3 Parts along Axis 0:\")\n",
    "print(split_arr2D_axis0)\n",
    "\n",
    "# Split the 2D array into 3 equal parts along axis 1 (columns)\n",
    "split_arr2D_axis1 = np.split(arr2D, 3, axis=1)\n",
    "print(\"\\n2D Array Split into 3 Parts along Axis 1:\")\n",
    "print(split_arr2D_axis1)"
   ]
  },
  {
   "cell_type": "markdown",
   "id": "55e73cef-a5d0-4d8e-9868-cb697c710700",
   "metadata": {},
   "source": [
    "## 2. Using np.hsplit"
   ]
  },
  {
   "cell_type": "code",
   "execution_count": null,
   "id": "b37471a8-b910-4c5b-8399-892b6e7c0a70",
   "metadata": {},
   "outputs": [],
   "source": [
    "# Create a 2D array\n",
    "arr2D_h = np.array([[1, 2, 3, 4], [5, 6, 7, 8]])\n",
    "\n",
    "# Split the 2D array horizontally into 2 parts\n",
    "h_split_arr2D = np.hsplit(arr2D_h, 2)\n",
    "print(\"\\nHorizontal Split of 2D Array:\")\n",
    "print(h_split_arr2D)"
   ]
  },
  {
   "cell_type": "markdown",
   "id": "7a476ce5-934a-4803-b991-05480ade7a4b",
   "metadata": {},
   "source": [
    "## 3. Using np.vsplit"
   ]
  },
  {
   "cell_type": "code",
   "execution_count": null,
   "id": "23135954-a47e-458e-8199-4b0a577fc26e",
   "metadata": {},
   "outputs": [],
   "source": [
    "# Create a 2D array\n",
    "arr2D_v = np.array([[1, 2, 3], [4, 5, 6], [7, 8, 9]])\n",
    "\n",
    "# Split the 2D array vertically into 3 parts\n",
    "v_split_arr2D = np.vsplit(arr2D_v, 3)\n",
    "print(\"\\nVertical Split of 2D Array:\")\n",
    "print(v_split_arr2D)"
   ]
  },
  {
   "cell_type": "markdown",
   "id": "3b036d24-7aed-4443-9176-b6cd3918d7a2",
   "metadata": {},
   "source": [
    "## 4. Using np.dsplit"
   ]
  },
  {
   "cell_type": "code",
   "execution_count": null,
   "id": "3ecdd7e8-8a7b-4e2c-b308-4e08cddfd704",
   "metadata": {},
   "outputs": [],
   "source": [
    "# Create a 3D array\n",
    "arr3D = np.array([[[1, 2], [3, 4]], [[5, 6], [7, 8]]])\n",
    "\n",
    "# Split the 3D array along the third axis (depth)\n",
    "d_split_arr3D = np.dsplit(arr3D, 2)\n",
    "print(\"\\nDepth Split of 3D Array:\")\n",
    "print(d_split_arr3D)"
   ]
  }
 ],
 "metadata": {
  "kernelspec": {
   "display_name": "Python 3 (ipykernel)",
   "language": "python",
   "name": "python3"
  },
  "language_info": {
   "codemirror_mode": {
    "name": "ipython",
    "version": 3
   },
   "file_extension": ".py",
   "mimetype": "text/x-python",
   "name": "python",
   "nbconvert_exporter": "python",
   "pygments_lexer": "ipython3",
   "version": "3.13.1"
  }
 },
 "nbformat": 4,
 "nbformat_minor": 5
}
