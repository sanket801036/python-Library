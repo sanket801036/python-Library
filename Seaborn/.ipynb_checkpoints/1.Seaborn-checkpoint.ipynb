{
 "cells": [
  {
   "cell_type": "markdown",
   "id": "2d27d971-7fd9-487b-86f2-78c2c5f5ec1e",
   "metadata": {},
   "source": [
    "### What is Seaborn?\n",
    "#### Seaborn is a data visualization library.\n",
    "#### It is built on top of matplotlib.\n",
    "#### It is closely integrated with pandas data structures.\n",
    "#### Seaborn is written in Python."
   ]
  },
  {
   "cell_type": "markdown",
   "id": "8f297dbf-2401-4482-920b-0717757e0b76",
   "metadata": {},
   "source": [
    "## Seaborn Graphs\n",
    "\n",
    "### Scatter Plot\n",
    "- A scatter plot is a type of graph that uses dots to represent data points. Each dot's position on the horizontal and vertical axes represents its values for the two variables.\n",
    "\n",
    "### Customizing with Matplotlib\n",
    "- Seaborn plots can be customized using Matplotlib functions and styles. \n",
    "\n",
    "### Box Plot\n",
    "- A box plot is a graphical representation of data that shows the distribution of the data. It shows the minimum, first quartile, median, third quartile, and maximum of the data.\n",
    "\n",
    "### Violin Plot\n",
    "- A violin plot is a graphical representation of data that shows the distribution of the data. It is similar to a box plot, but it also shows the density of the data.\n",
    "\n",
    "### Swarm Plot\n",
    "- A swarm plot is a graphical representation of data that shows the distribution of the data. It is similar to a strip plot, but it uses jitter to avoid overlapping points.\n",
    "\n",
    "### Overlaying Plots\n",
    "- Seaborn allows you to overlay different types of plots on top of each other. This can be useful for comparing data or exploring relationships between variables.\n",
    "\n",
    "### Heatmap\n",
    "- A heatmap is a graphical representation of data that uses color to represent values. It is often used to visualize relationships between two variables.\n",
    "\n",
    "### Histogram\n",
    "- A histogram is a graphical representation of data that shows the frequency of values in a dataset. It is often used to visualize the distribution of a single variable.\n",
    "\n",
    "### Bar Plot\n",
    "- A bar plot is a graphical representation of data that uses bars to represent values. It is often used to compare values across different categories.\n",
    "\n",
    "### Factor Plot\n",
    "- A factor plot is a graphical representation of data that shows the relationship between two variables, one of which is categorical. It is often used to explore the effect of a categorical variable on a numerical variable.\n",
    "\n",
    "### Density Plot\n",
    "- A density plot is a graphical representation of data that shows the distribution of a continuous variable. It is similar to a histogram, but it uses a smooth curve to represent the distribution.\n",
    "\n",
    "### Joint Distribution\n",
    "- A joint distribution is a graphical representation of data that shows the relationship between two variables. It is similar to a scatter plot, but it also shows the marginal distributions of each variable.\n"
   ]
  },
  {
   "cell_type": "code",
   "execution_count": null,
   "id": "45ec1933-9d46-4c72-8223-c614a4a5101d",
   "metadata": {},
   "outputs": [],
   "source": []
  }
 ],
 "metadata": {
  "kernelspec": {
   "display_name": "Python 3 (ipykernel)",
   "language": "python",
   "name": "python3"
  },
  "language_info": {
   "codemirror_mode": {
    "name": "ipython",
    "version": 3
   },
   "file_extension": ".py",
   "mimetype": "text/x-python",
   "name": "python",
   "nbconvert_exporter": "python",
   "pygments_lexer": "ipython3",
   "version": "3.13.1"
  }
 },
 "nbformat": 4,
 "nbformat_minor": 5
}
